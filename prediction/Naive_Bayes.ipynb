{
 "cells": [
  {
   "cell_type": "code",
   "execution_count": 32,
   "id": "47645f09-90b9-4e1c-a43e-075d84c8b325",
   "metadata": {},
   "outputs": [
    {
     "name": "stdout",
     "output_type": "stream",
     "text": [
      "Requirement already satisfied: pandas in /home/ariyaman/learntocode/Stockipy/venv/lib/python3.10/site-packages (2.2.2)\n",
      "Requirement already satisfied: numpy in /home/ariyaman/learntocode/Stockipy/venv/lib/python3.10/site-packages (1.26.4)\n",
      "Requirement already satisfied: matplotlib in /home/ariyaman/learntocode/Stockipy/venv/lib/python3.10/site-packages (3.9.0)\n",
      "Requirement already satisfied: seaborn in /home/ariyaman/learntocode/Stockipy/venv/lib/python3.10/site-packages (0.13.2)\n",
      "Requirement already satisfied: scikit-learn in /home/ariyaman/learntocode/Stockipy/venv/lib/python3.10/site-packages (1.5.0)\n",
      "Requirement already satisfied: xgboost in /home/ariyaman/learntocode/Stockipy/venv/lib/python3.10/site-packages (2.1.0)\n",
      "Requirement already satisfied: importlib in /home/ariyaman/learntocode/Stockipy/venv/lib/python3.10/site-packages (1.0.4)\n",
      "Requirement already satisfied: bayesian-optimization in /home/ariyaman/learntocode/Stockipy/venv/lib/python3.10/site-packages (1.5.0)\n",
      "Requirement already satisfied: plotting in /home/ariyaman/learntocode/Stockipy/venv/lib/python3.10/site-packages (0.0.7)\n",
      "Requirement already satisfied: functions in /home/ariyaman/learntocode/Stockipy/venv/lib/python3.10/site-packages (0.7.0)\n",
      "Requirement already satisfied: pytz>=2020.1 in /home/ariyaman/learntocode/Stockipy/venv/lib/python3.10/site-packages (from pandas) (2024.1)\n",
      "Requirement already satisfied: python-dateutil>=2.8.2 in /home/ariyaman/learntocode/Stockipy/venv/lib/python3.10/site-packages (from pandas) (2.9.0.post0)\n",
      "Requirement already satisfied: tzdata>=2022.7 in /home/ariyaman/learntocode/Stockipy/venv/lib/python3.10/site-packages (from pandas) (2024.1)\n",
      "Requirement already satisfied: kiwisolver>=1.3.1 in /home/ariyaman/learntocode/Stockipy/venv/lib/python3.10/site-packages (from matplotlib) (1.4.5)\n",
      "Requirement already satisfied: contourpy>=1.0.1 in /home/ariyaman/learntocode/Stockipy/venv/lib/python3.10/site-packages (from matplotlib) (1.2.1)\n",
      "Requirement already satisfied: pillow>=8 in /home/ariyaman/learntocode/Stockipy/venv/lib/python3.10/site-packages (from matplotlib) (10.3.0)\n",
      "Requirement already satisfied: cycler>=0.10 in /home/ariyaman/learntocode/Stockipy/venv/lib/python3.10/site-packages (from matplotlib) (0.12.1)\n",
      "Requirement already satisfied: fonttools>=4.22.0 in /home/ariyaman/learntocode/Stockipy/venv/lib/python3.10/site-packages (from matplotlib) (4.53.0)\n",
      "Requirement already satisfied: pyparsing>=2.3.1 in /home/ariyaman/learntocode/Stockipy/venv/lib/python3.10/site-packages (from matplotlib) (3.1.2)\n",
      "Requirement already satisfied: packaging>=20.0 in /home/ariyaman/learntocode/Stockipy/venv/lib/python3.10/site-packages (from matplotlib) (24.1)\n",
      "Requirement already satisfied: joblib>=1.2.0 in /home/ariyaman/learntocode/Stockipy/venv/lib/python3.10/site-packages (from scikit-learn) (1.4.2)\n",
      "Requirement already satisfied: threadpoolctl>=3.1.0 in /home/ariyaman/learntocode/Stockipy/venv/lib/python3.10/site-packages (from scikit-learn) (3.5.0)\n",
      "Requirement already satisfied: scipy>=1.6.0 in /home/ariyaman/learntocode/Stockipy/venv/lib/python3.10/site-packages (from scikit-learn) (1.13.1)\n",
      "Requirement already satisfied: nvidia-nccl-cu12 in /home/ariyaman/learntocode/Stockipy/venv/lib/python3.10/site-packages (from xgboost) (2.20.5)\n",
      "Requirement already satisfied: colorama<0.5.0,>=0.4.6 in /home/ariyaman/learntocode/Stockipy/venv/lib/python3.10/site-packages (from bayesian-optimization) (0.4.6)\n",
      "Requirement already satisfied: six>=1.5 in /home/ariyaman/learntocode/Stockipy/venv/lib/python3.10/site-packages (from python-dateutil>=2.8.2->pandas) (1.16.0)\n"
     ]
    }
   ],
   "source": [
    "!pip install pandas numpy matplotlib seaborn  scikit-learn xgboost importlib bayesian-optimization plotting functions"
   ]
  },
  {
   "cell_type": "code",
   "execution_count": 33,
   "id": "0ed39dc8-2620-4bee-a592-29d104e67140",
   "metadata": {},
   "outputs": [],
   "source": [
    "import os\n",
    "import pandas as pd\n",
    "import numpy as np\n",
    "import matplotlib.pyplot as plt\n",
    "import matplotlib.patches as patches\n",
    "import datetime as dt\n",
    "import seaborn as sns\n",
    "import warnings\n",
    "from numpy import array\n",
    "from importlib import reload\n",
    "from sklearn.naive_bayes import GaussianNB  \n",
    "from xgboost import XGBClassifier\n",
    "\n"
   ]
  },
  {
   "cell_type": "code",
   "execution_count": 34,
   "id": "ff833736-7204-4324-89c5-f04316e8f2be",
   "metadata": {},
   "outputs": [],
   "source": [
    "warnings.filterwarnings(\"ignore\")\n",
    "plt.rcParams['figure.dpi'] = 227"
   ]
  },
  {
   "cell_type": "code",
   "execution_count": 35,
   "id": "d974297a-01e7-4fdb-b4f1-213b78a6d405",
   "metadata": {},
   "outputs": [],
   "source": [
    "import statsmodels.api as sm\n",
    "from statsmodels.tsa.arima_model import ARIMA\n",
    "from statsmodels.tsa.statespace.sarimax import SARIMAX\n",
    "from statsmodels.graphics.tsaplots import plot_pacf, plot_acf\n",
    "from sklearn.metrics import mean_squared_error, confusion_matrix, f1_score, accuracy_score\n",
    "from pandas.plotting import autocorrelation_plot\n"
   ]
  },
  {
   "cell_type": "code",
   "execution_count": 36,
   "id": "d8894d9b-5a7c-48d8-ae33-cb2d4a9fd66b",
   "metadata": {},
   "outputs": [],
   "source": [
    "import tensorflow as tf\n",
    "from tensorflow.keras import optimizers\n",
    "from tensorflow.keras.models import Sequential, Model\n",
    "from tensorflow.keras.layers import (\n",
    "    Input, Flatten, TimeDistributed, LSTM, Dense, Bidirectional, Dropout, \n",
    "    ConvLSTM2D, Conv1D, GlobalMaxPooling1D, MaxPooling1D, BatchNormalization, LeakyReLU\n",
    ")\n",
    "from bayes_opt import BayesianOptimization\n",
    "from tensorflow.keras.utils import plot_model"
   ]
  },
  {
   "cell_type": "code",
   "execution_count": null,
   "id": "8d6b404b-8c7c-4e2f-8950-4ccfd0ae60d9",
   "metadata": {},
   "outputs": [],
   "source": []
  }
 ],
 "metadata": {
  "kernelspec": {
   "display_name": "Python 3 (ipykernel)",
   "language": "python",
   "name": "python3"
  },
  "language_info": {
   "codemirror_mode": {
    "name": "ipython",
    "version": 3
   },
   "file_extension": ".py",
   "mimetype": "text/x-python",
   "name": "python",
   "nbconvert_exporter": "python",
   "pygments_lexer": "ipython3",
   "version": "3.10.12"
  }
 },
 "nbformat": 4,
 "nbformat_minor": 5
}
